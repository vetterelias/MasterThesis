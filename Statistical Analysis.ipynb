{
 "cells": [
  {
   "cell_type": "markdown",
   "metadata": {},
   "source": [
    "# Statistical Analysis"
   ]
  },
  {
   "cell_type": "code",
   "execution_count": null,
   "metadata": {},
   "outputs": [],
   "source": [
    "import requests\n",
    "import json\n",
    "import pandas as pd\n",
    "import numpy as np\n",
    "\n",
    "import plotly.graph_objs as go\n",
    "import seaborn as sns\n",
    "\n",
    "import matplotlib.pyplot as plt\n",
    "import seaborn as sns\n",
    "import matplotlib.pyplot as plt\n",
    "\n",
    "from scipy import stats"
   ]
  },
  {
   "cell_type": "code",
   "execution_count": null,
   "metadata": {},
   "outputs": [],
   "source": [
    "## Data\n",
    "# Import Demo data\n",
    "df_demo = pd.read_csv(\"C:/Users/vette/Dropbox/Tu/Studie/Master/2018-2019/Master Thesis/Phase 1/Data/demo/demo_combined.csv\",sep=\",\",encoding='Utf-8',index_col=0)\n",
    "\n",
    "# Import Area Data\n",
    "df_wijken = pd.read_csv(\"C:/Users/vette/Dropbox/Tu/Studie/Master/2018-2019/Master Thesis/Phase 1/Data/wijken.csv\",sep=\";\",encoding='Utf-8',index_col=0)\n"
   ]
  },
  {
   "cell_type": "code",
   "execution_count": null,
   "metadata": {},
   "outputs": [],
   "source": [
    "df_demo_non_nom= df_demo_nom.drop([0,1,2,3,4,5,6,7,8,9,20,29,33,34,44,45,46,47,49,50,51,52,53,69,74,79,86,87,88,89,90,91,92,93,94,95,96])\n",
    "                                   \n",
    "df_demo_non_nom = df_demo_non_nom.reset_index(drop=True)"
   ]
  },
  {
   "cell_type": "code",
   "execution_count": null,
   "metadata": {},
   "outputs": [],
   "source": [
    "df_demo_sep_nom= df_demo_nom.drop([8,9,20,29,33,34,44,69,74,79,86,87,88,89,90])\n",
    "\n",
    "df_demo_sep_nom = df_demo_sep_nom.reset_index(drop=True)"
   ]
  },
  {
   "cell_type": "code",
   "execution_count": null,
   "metadata": {},
   "outputs": [],
   "source": [
    "Non_Sep_Plastic_Year = Non_Separaded_Plastic.sum(axis = 1)\n",
    "Non_Sep_Plastic_Year = Non_Sep_Plastic_Year.reset_index(level=['Wijken'])\n"
   ]
  },
  {
   "cell_type": "code",
   "execution_count": null,
   "metadata": {},
   "outputs": [],
   "source": [
    "Non_Sep_Plastic_Year = Non_Separaded_Plastic.sum(axis = 1)\n",
    "Non_Sep_Plastic_Year = Non_Sep_Plastic_Year.reset_index(level=['Wijken'])\n",
    "Non_Sep_Plastic_Year = Non_Sep_Plastic_Year.reset_index(drop=True)\n",
    "Non_Sep_Plastic_Year[0] = Non_Sep_Plastic_Year[0]/df_demo_non_nom.citizens.astype(float)\n",
    "Non_Sep_Plastic_Year[0] = Non_Sep_Plastic_Year[0]*1000"
   ]
  },
  {
   "cell_type": "code",
   "execution_count": null,
   "metadata": {},
   "outputs": [],
   "source": [
    "Sep_Plastic_Year = Separaded_Plastic.sum(axis = 1, skipna = True)\n",
    "Sep_Plastic_Year = Sep_Plastic_Year.reset_index(level=['Wijken'])\n",
    "\n",
    "Sep_Plastic_Year = Sep_Plastic_Year.reset_index(drop=True)\n",
    "Sep_Plastic_Year[0] = Sep_Plastic_Year[0]/df_demo_sep_nom.citizens.astype(float)\n",
    "Sep_Plastic_Year[0] = Sep_Plastic_Year[0]*1000"
   ]
  },
  {
   "cell_type": "code",
   "execution_count": null,
   "metadata": {},
   "outputs": [],
   "source": [
    "Sep_Plastic_Total_Year = Separaded_Plastic.sum(axis = 1, skipna = True)\n",
    "Non_Sep_Plastic_Total_Year = Non_Separaded_Plastic.sum(axis = 1)\n",
    "Non_Sep_Plastic_Total_Year = Non_Sep_Plastic_Total_Year.reset_index(level=['Wijken'])\n",
    "Sep_Plastic_Total_Year = Sep_Plastic_Total_Year.reset_index(level=['Wijken'])\n",
    "Total_Plastic_Year = pd.merge(Non_Sep_Plastic_Total_Year,Sep_Plastic_Total_Year,  how='left', left_on=['Wijken'],right_on=['Wijken'])\n",
    "Total_Plastic_Year[\"total\"]=Total_Plastic_Year[\"0_x\"] +Total_Plastic_Year[\"0_y\"]\n",
    "Total_Plastic_Year[\"total\"] = Total_Plastic_Year[\"total\"]/df_demo_non_nom.citizens.astype(float)*1000\n"
   ]
  },
  {
   "cell_type": "code",
   "execution_count": null,
   "metadata": {},
   "outputs": [],
   "source": [
    "Sep_Plastic_Year.to_csv(r'C:/Users/vette/Dropbox/Tu/Studie/Master/2018-2019/Master Thesis/Phase 1/Data/demo/Sep_plastic_nom.csv')\n",
    "Non_Sep_Plastic_Year.to_csv(r'C:/Users/vette/Dropbox/Tu/Studie/Master/2018-2019/Master Thesis/Phase 1/Data/demo/Non_Sep_plastic_nom.csv')\n",
    "Total_Plastic_Year.to_csv(r'C:/Users/vette/Dropbox/Tu/Studie/Master/2018-2019/Master Thesis/Phase 1/Data/demo/Total_plastic_nom.csv')"
   ]
  },
  {
   "cell_type": "markdown",
   "metadata": {},
   "source": [
    "### Correlation"
   ]
  },
  {
   "cell_type": "code",
   "execution_count": null,
   "metadata": {},
   "outputs": [],
   "source": [
    "test = pd.cut(Sep_Plastic_Year[0],[0, 1.68, 3.1, 6.3, 12.3, 31,40], labels=False, retbins=True, right=True)\n",
    "df_demo_sep_nom[\"sep_plastic_nom\"] = test[0]"
   ]
  },
  {
   "cell_type": "code",
   "execution_count": null,
   "metadata": {},
   "outputs": [],
   "source": [
    "data = df_demo_sep_nom.drop(columns=['wijk','Code','households','houses','h_kids','h_no_kids'])\n",
    "data = data.fillna(0)"
   ]
  },
  {
   "cell_type": "code",
   "execution_count": null,
   "metadata": {},
   "outputs": [],
   "source": [
    "data = data.astype(float)"
   ]
  },
  {
   "cell_type": "code",
   "execution_count": null,
   "metadata": {},
   "outputs": [],
   "source": [
    "\n",
    "df1 = data\n",
    "df2 = data\n",
    "\n",
    "coeffmat = np.zeros((df1.shape[1], df2.shape[1]))\n",
    "pvalmat = np.zeros((df1.shape[1], df2.shape[1]))\n",
    "\n",
    "for i in range(df1.shape[1]):    \n",
    "    for j in range(df2.shape[1]):        \n",
    "        corrtest = pearsonr(df1[df1.columns[i]], df2[df2.columns[j]])  \n",
    "\n",
    "        coeffmat[i,j] = corrtest[0]\n",
    "        pvalmat[i,j] = corrtest[1]\n",
    "\n",
    "dfcoeff = pd.DataFrame(coeffmat, columns=df2.columns, index=df1.columns)\n",
    "\n",
    "\n",
    "dfpvals = pd.DataFrame(pvalmat, columns=df2.columns, index=df1.columns)"
   ]
  },
  {
   "cell_type": "code",
   "execution_count": null,
   "metadata": {},
   "outputs": [],
   "source": [
    "dfpvals"
   ]
  },
  {
   "cell_type": "code",
   "execution_count": null,
   "metadata": {},
   "outputs": [],
   "source": [
    "dfpvals.to_excel(r'C:/Users/vette/Dropbox/Tu/Studie/Master/2018-2019/Master Thesis/Phase 1/Data/demo/correlation_table_V2.xlsx')"
   ]
  },
  {
   "cell_type": "code",
   "execution_count": null,
   "metadata": {},
   "outputs": [],
   "source": [
    "dfcoeff "
   ]
  },
  {
   "cell_type": "code",
   "execution_count": null,
   "metadata": {},
   "outputs": [],
   "source": [
    "dfcoeff.to_excel(r'C:/Users/vette/Dropbox/Tu/Studie/Master/2018-2019/Master Thesis/Phase 1/Data/demo/correlation_table_V1.xlsx')"
   ]
  }
 ],
 "metadata": {
  "kernelspec": {
   "display_name": "Python 3",
   "language": "python",
   "name": "python3"
  },
  "language_info": {
   "codemirror_mode": {
    "name": "ipython",
    "version": 3
   },
   "file_extension": ".py",
   "mimetype": "text/x-python",
   "name": "python",
   "nbconvert_exporter": "python",
   "pygments_lexer": "ipython3",
   "version": "3.7.1"
  }
 },
 "nbformat": 4,
 "nbformat_minor": 2
}
